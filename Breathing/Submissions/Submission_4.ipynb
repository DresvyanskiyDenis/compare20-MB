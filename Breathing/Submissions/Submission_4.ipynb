{
  "nbformat": 4,
  "nbformat_minor": 0,
  "metadata": {
    "colab": {
      "name": "Submit_4",
      "provenance": [],
      "collapsed_sections": [],
      "toc_visible": true
    },
    "kernelspec": {
      "name": "python3",
      "display_name": "Python 3"
    },
    "accelerator": "GPU"
  },
  "cells": [
    {
      "cell_type": "markdown",
      "metadata": {
        "id": "zsvRQ5eUTbMi"
      },
      "source": [
        "#Melspectrograms extraction"
      ]
    },
    {
      "cell_type": "code",
      "metadata": {
        "id": "vcmbz8vjTg-d"
      },
      "source": [
        "!pip install librosa==0.8.0"
      ],
      "execution_count": null,
      "outputs": []
    },
    {
      "cell_type": "code",
      "metadata": {
        "id": "L7GOAm2cTn8G"
      },
      "source": [
        "import librosa"
      ],
      "execution_count": null,
      "outputs": []
    },
    {
      "cell_type": "code",
      "metadata": {
        "id": "-Khl_fNBTprE"
      },
      "source": [
        "import wave\n",
        "import pandas as pd\n",
        "import matplotlib.image as mpimg\n",
        "def scale_minmax(X, min=0.0, max=1.0):\n",
        "    X_std = (X - X.min()) / (X.max() - X.min())\n",
        "    X_scaled = X_std * (max - min) + min\n",
        "    return X_scaled"
      ],
      "execution_count": null,
      "outputs": []
    },
    {
      "cell_type": "code",
      "metadata": {
        "id": "w_-bXI2DgWeF"
      },
      "source": [
        "path_to_folder = '/content/drive/My Drive/ComParE2020_Breathing/'\n",
        "wav_files_path = '/content/drive/My Drive/ComParE2020_Breathing/wav/'\n",
        "mel_path = '/content/drive/My Drive/ComParE2020_Breathing/melspectrograms/'\n"
      ],
      "execution_count": null,
      "outputs": []
    },
    {
      "cell_type": "code",
      "metadata": {
        "id": "TzwRsopiTfCr"
      },
      "source": [
        "\n",
        "def extract_mel(path,file,save_path):\n",
        "    sr = 16000\n",
        "    hop_length = 320 # step per window\n",
        "    n_fft=640   # size of window\n",
        "    n_mels=128  # num of mels\n",
        "    if os.path.isfile(path+file):\n",
        "        sound, sr = librosa.load(path + file, sr=sr)\n",
        "    \n",
        "        S = librosa.feature.melspectrogram(sound, sr=sr, n_fft=n_fft,\n",
        "                                           hop_length=hop_length,\n",
        "                                           n_mels=n_mels,\n",
        "                                           center=True)\n",
        "        S_DB = librosa.power_to_db(S, ref=np.max)\n",
        "        img = scale_minmax(S_DB, 0, 255).astype(np.uint8)\n",
        "        img = np.flip(img, axis=0)\n",
        "        img = 255-img\n",
        "        new_arr = np.hstack([img[:,1:50][:,::-1],img])\n",
        "        new_arr = np.hstack([new_arr,img[:,-50:-1][:,::-1]])\n",
        "        np.save(save_path+file.replace(\".wav\",\".npy\"), new_arr)\n",
        "        print(save_path+file.replace(\".wav\",\".npy\"),\" saved\")\n",
        "        return img\n",
        "        \n",
        "def run_mel_extraction(path,save_path):\n",
        "    if not os.path.exists(os.path.dirname(save_path)):\n",
        "        dir_name = os.path.dirname(save_path)\n",
        "        os.makedirs(dir_name)\n",
        "    files = os.listdir(path)\n",
        "    for file in files:\n",
        "      extract_mel(path,file,save_path)\n",
        "      \n"
      ],
      "execution_count": null,
      "outputs": []
    },
    {
      "cell_type": "code",
      "metadata": {
        "id": "LUwvpB6RTsyb"
      },
      "source": [
        "run_mel_extraction(wav_files_path,mel_path)"
      ],
      "execution_count": null,
      "outputs": []
    },
    {
      "cell_type": "markdown",
      "metadata": {
        "id": "VglHK4T-WUOS"
      },
      "source": [
        "#Main"
      ]
    },
    {
      "cell_type": "code",
      "metadata": {
        "id": "d_IUDp1XdXhV"
      },
      "source": [
        "import sys\n",
        "sys.path.append(path_to_folder)"
      ],
      "execution_count": null,
      "outputs": []
    },
    {
      "cell_type": "code",
      "metadata": {
        "id": "ZGTZ9Hn_eYfz"
      },
      "source": [
        "from ComPare2020 import *"
      ],
      "execution_count": null,
      "outputs": []
    },
    {
      "cell_type": "code",
      "metadata": {
        "id": "hh03UfW9-zOn",
        "outputId": "4081e299-6606-480e-a8d5-486778734922",
        "colab": {
          "base_uri": "https://localhost:8080/",
          "height": 544
        }
      },
      "source": [
        "from tensorflow.python.client import device_lib\n",
        "print(device_lib.list_local_devices())"
      ],
      "execution_count": null,
      "outputs": [
        {
          "output_type": "stream",
          "text": [
            "[name: \"/device:CPU:0\"\n",
            "device_type: \"CPU\"\n",
            "memory_limit: 268435456\n",
            "locality {\n",
            "}\n",
            "incarnation: 8529868149378632122\n",
            ", name: \"/device:XLA_CPU:0\"\n",
            "device_type: \"XLA_CPU\"\n",
            "memory_limit: 17179869184\n",
            "locality {\n",
            "}\n",
            "incarnation: 448417981364719811\n",
            "physical_device_desc: \"device: XLA_CPU device\"\n",
            ", name: \"/device:XLA_GPU:0\"\n",
            "device_type: \"XLA_GPU\"\n",
            "memory_limit: 17179869184\n",
            "locality {\n",
            "}\n",
            "incarnation: 5142803346505871553\n",
            "physical_device_desc: \"device: XLA_GPU device\"\n",
            ", name: \"/device:GPU:0\"\n",
            "device_type: \"GPU\"\n",
            "memory_limit: 15695549568\n",
            "locality {\n",
            "  bus_id: 1\n",
            "  links {\n",
            "  }\n",
            "}\n",
            "incarnation: 6995272799591259717\n",
            "physical_device_desc: \"device: 0, name: Tesla P100-PCIE-16GB, pci bus id: 0000:00:04.0, compute capability: 6.0\"\n",
            "]\n"
          ],
          "name": "stdout"
        }
      ]
    },
    {
      "cell_type": "code",
      "metadata": {
        "id": "T_45R0IQUK9V"
      },
      "source": [
        "if \"Tesla P100-PCIE-16GB\" not in device_lib.list_local_devices()[-1].physical_device_desc:\n",
        "  print(\"----To run the model you need Tesla P100!----\")"
      ],
      "execution_count": null,
      "outputs": []
    },
    {
      "cell_type": "code",
      "metadata": {
        "id": "YLdRh4K05eci",
        "outputId": "7abea386-a7c7-41b8-effe-b914f14ffa92",
        "colab": {
          "base_uri": "https://localhost:8080/",
          "height": 326
        }
      },
      "source": [
        "!pip install git+https://github.com/qubvel/classification_models.git\n",
        "from classification_models.tfkeras import Classifiers"
      ],
      "execution_count": null,
      "outputs": [
        {
          "output_type": "stream",
          "text": [
            "Collecting git+https://github.com/qubvel/classification_models.git\n",
            "  Cloning https://github.com/qubvel/classification_models.git to /tmp/pip-req-build-wz3w8qyg\n",
            "  Running command git clone -q https://github.com/qubvel/classification_models.git /tmp/pip-req-build-wz3w8qyg\n",
            "  Running command git submodule update --init --recursive -q\n",
            "Collecting keras_applications<=1.0.8,>=1.0.7\n",
            "\u001b[?25l  Downloading https://files.pythonhosted.org/packages/71/e3/19762fdfc62877ae9102edf6342d71b28fbfd9dea3d2f96a882ce099b03f/Keras_Applications-1.0.8-py3-none-any.whl (50kB)\n",
            "\u001b[K     |████████████████████████████████| 51kB 1.6MB/s \n",
            "\u001b[?25hRequirement already satisfied: h5py in /usr/local/lib/python3.6/dist-packages (from keras_applications<=1.0.8,>=1.0.7->image-classifiers==1.0.0) (2.10.0)\n",
            "Requirement already satisfied: numpy>=1.9.1 in /usr/local/lib/python3.6/dist-packages (from keras_applications<=1.0.8,>=1.0.7->image-classifiers==1.0.0) (1.18.5)\n",
            "Requirement already satisfied: six in /usr/local/lib/python3.6/dist-packages (from h5py->keras_applications<=1.0.8,>=1.0.7->image-classifiers==1.0.0) (1.15.0)\n",
            "Building wheels for collected packages: image-classifiers\n",
            "  Building wheel for image-classifiers (setup.py) ... \u001b[?25l\u001b[?25hdone\n",
            "  Created wheel for image-classifiers: filename=image_classifiers-1.0.0-cp36-none-any.whl size=20032 sha256=fac432b07b36cab6eb72a626b7dfac08a474e0fba67672132de0fe28b074e0da\n",
            "  Stored in directory: /tmp/pip-ephem-wheel-cache-e6jqxdfz/wheels/de/2b/fd/29a6d33edb8c28bc7d94e95ea1d39c9a218ac500a3cfb1b197\n",
            "Successfully built image-classifiers\n",
            "Installing collected packages: keras-applications, image-classifiers\n",
            "Successfully installed image-classifiers-1.0.0 keras-applications-1.0.8\n"
          ],
          "name": "stdout"
        }
      ]
    },
    {
      "cell_type": "code",
      "metadata": {
        "id": "KeNx8O9B8lC6",
        "outputId": "a75fc962-43b1-42b2-f9be-49f9281839cf",
        "colab": {
          "base_uri": "https://localhost:8080/",
          "height": 187
        }
      },
      "source": [
        "!pip install --upgrade tables"
      ],
      "execution_count": null,
      "outputs": [
        {
          "output_type": "stream",
          "text": [
            "Collecting tables\n",
            "\u001b[?25l  Downloading https://files.pythonhosted.org/packages/ed/c3/8fd9e3bb21872f9d69eb93b3014c86479864cca94e625fd03713ccacec80/tables-3.6.1-cp36-cp36m-manylinux1_x86_64.whl (4.3MB)\n",
            "\u001b[K     |████████████████████████████████| 4.3MB 3.5MB/s \n",
            "\u001b[?25hRequirement already satisfied, skipping upgrade: numpy>=1.9.3 in /usr/local/lib/python3.6/dist-packages (from tables) (1.18.5)\n",
            "Requirement already satisfied, skipping upgrade: numexpr>=2.6.2 in /usr/local/lib/python3.6/dist-packages (from tables) (2.7.1)\n",
            "Installing collected packages: tables\n",
            "  Found existing installation: tables 3.4.4\n",
            "    Uninstalling tables-3.4.4:\n",
            "      Successfully uninstalled tables-3.4.4\n",
            "Successfully installed tables-3.6.1\n"
          ],
          "name": "stdout"
        }
      ]
    },
    {
      "cell_type": "markdown",
      "metadata": {
        "id": "MX_EEMTi0UNf"
      },
      "source": [
        "#4 submission"
      ]
    },
    {
      "cell_type": "code",
      "metadata": {
        "id": "bvgGiBXwztOc"
      },
      "source": [
        "from tensorflow.keras.models import load_model"
      ],
      "execution_count": null,
      "outputs": []
    },
    {
      "cell_type": "code",
      "metadata": {
        "id": "pGqj2whVKjHk"
      },
      "source": [
        "ensembel_models_paths = [\"/content/drive/My Drive/ComParE2020_Breathing/models_4_submit/fold_0.h5\",\n",
        "                     \"/content/drive/My Drive/ComParE2020_Breathing/models_4_submit/fold_1.h5\",\n",
        "                     \"/content/drive/My Drive/ComParE2020_Breathing/models_4_submit/fold_2.h5\",\n",
        "                     \"/content/drive/My Drive/ComParE2020_Breathing/models_4_submit/fold_3.h5\"]"
      ],
      "execution_count": null,
      "outputs": []
    },
    {
      "cell_type": "code",
      "metadata": {
        "id": "Bp-ih9aLRCAb",
        "outputId": "314c83b0-d242-418a-dbc7-3ebe57472552",
        "colab": {
          "base_uri": "https://localhost:8080/",
          "height": 88
        }
      },
      "source": [
        "X_test = get_X_melspactrograms(\"test\",mel_path)\n",
        "df_meta_test = get_meta_info(\"test\",path_to_folder+\"labels.csv\")"
      ],
      "execution_count": null,
      "outputs": [
        {
          "output_type": "stream",
          "text": [
            "(128, 193584)\n"
          ],
          "name": "stdout"
        },
        {
          "output_type": "stream",
          "text": [
            "/usr/local/lib/python3.6/dist-packages/IPython/core/interactiveshell.py:2822: DtypeWarning: Columns (2) have mixed types.Specify dtype option on import or set low_memory=False.\n",
            "  if self.run_code(code, result):\n"
          ],
          "name": "stderr"
        }
      ]
    },
    {
      "cell_type": "code",
      "metadata": {
        "id": "HWSED5JwSO9L"
      },
      "source": [
        "reset_random_seeds()\n",
        "ResNet18, preprocess_input = Classifiers.get('resnet18')\n",
        "del ResNet18"
      ],
      "execution_count": null,
      "outputs": []
    },
    {
      "cell_type": "code",
      "metadata": {
        "id": "_bPJOq8W-Qm-"
      },
      "source": [
        "models_scores = dict()\n",
        "for i in [0,1,2,3]:\n",
        "    model_loaded = load_model(ensembel_models_paths[i],custom_objects={\"correlation_coefficient_loss\":correlation_coefficient_loss})\n",
        "    models_scores[i] = get_predict_test(model_loaded,X_test,df_meta_test,1,preprocess_input)\n",
        "    del model_loaded"
      ],
      "execution_count": null,
      "outputs": []
    },
    {
      "cell_type": "code",
      "metadata": {
        "id": "ffnyLQO0-7-z"
      },
      "source": [
        "predictions = pd.concat(models_scores,axis=1)\n",
        "predictions[\"mean\"] = predictions.mean(axis=1)\n"
      ],
      "execution_count": null,
      "outputs": []
    },
    {
      "cell_type": "code",
      "metadata": {
        "id": "9LQSCFcK146H"
      },
      "source": [
        "predictions[\"mean\"].to_csv(\"test_predictions_4trial.csv\")"
      ],
      "execution_count": null,
      "outputs": []
    }
  ]
}